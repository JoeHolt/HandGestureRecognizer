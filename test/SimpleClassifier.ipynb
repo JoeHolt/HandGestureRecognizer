{
 "cells": [
  {
   "cell_type": "markdown",
   "metadata": {},
   "source": [
    "# In this model i train a simple classifier\n",
    "https://pytorch.org/tutorials/beginner/blitz/cifar10_tutorial.html\n",
    "\n",
    "https://www.kaggle.com/gti-upm/leapgestrecog/version/1"
   ]
  },
  {
   "cell_type": "code",
   "execution_count": 5,
   "metadata": {},
   "outputs": [],
   "source": [
    "import os\n",
    "import cv2\n",
    "import matplotlib.pyplot as plt\n",
    "import numpy as np\n",
    "from functools import lru_cache\n",
    "os.chdir('/Users/joeholt/Documents/College Local/Current/CS 639/proj') \n",
    "%matplotlib inline"
   ]
  },
  {
   "cell_type": "code",
   "execution_count": 6,
   "metadata": {},
   "outputs": [],
   "source": [
    "imshow = lambda im: plt.imshow(im, cmap='gray')\n",
    "def imshow_group(imgs):\n",
    "    f, axarr = plt.subplots(1,len(imgs), figsize=(20, 6))\n",
    "    for idx, img in enumerate(imgs):\n",
    "        axarr[idx].imshow(img, cmap='gray')"
   ]
  },
  {
   "cell_type": "code",
   "execution_count": 8,
   "metadata": {},
   "outputs": [],
   "source": [
    "path_plus = os.path.join(os.getcwd(), 'data', 'leapGestRecog', '00', '01_palm', 'frame_00_01_0001.png')"
   ]
  },
  {
   "cell_type": "code",
   "execution_count": 10,
   "metadata": {},
   "outputs": [
    {
     "data": {
      "text/plain": [
       "<matplotlib.image.AxesImage at 0x7fee954c8828>"
      ]
     },
     "execution_count": 10,
     "metadata": {},
     "output_type": "execute_result"
    },
    {
     "data": {
      "image/png": "[encoded data removed]",
      "text/plain": [
       "<Figure size 432x288 with 1 Axes>"
      ]
     },
     "metadata": {},
     "output_type": "display_data"
    }
   ],
   "source": [
    "def process_img(path, new_size, threshold=0.4):\n",
    "    img = img = cv2.imread(path)\n",
    "    img = cv2.cvtColor(img, cv2.COLOR_BGR2GRAY)\n",
    "    img = cv2.resize(img, (new_size[0],  new_size[1]))\n",
    "    img = cv2.threshold(img, 255*threshold, 255, cv2.THRESH_BINARY)[1]\n",
    "    return img\n",
    "    \n",
    "img = process_img(path_plus, (200, 100))\n",
    "imshow(img)"
   ]
  },
  {
   "cell_type": "code",
   "execution_count": 11,
   "metadata": {},
   "outputs": [],
   "source": [
    "class_labels = {\n",
    "    'palm': 0,\n",
    "    'l': 1,\n",
    "    'fist': 2,\n",
    "    'fist_moved': 3,\n",
    "    'thumb': 4,\n",
    "    'index': 5,\n",
    "    'ok': 6,\n",
    "    'palm_moved': 7,\n",
    "    'c': 8,\n",
    "    'down': 9\n",
    "}"
   ]
  },
  {
   "cell_type": "code",
   "execution_count": 13,
   "metadata": {},
   "outputs": [],
   "source": [
    "def load_dataset(transformed_size=(100, 200)):\n",
    "    \"\"\"\n",
    "    Loads dataset and returns X, y. Loads dataset from leapGestRecog\n",
    "    data store in this project\n",
    "    \n",
    "    Returns:\n",
    "    X representing processed dataset images in arrays\n",
    "    y representing classes as strings for those items\n",
    "    \"\"\"\n",
    "    os.chdir('/Users/joeholt/Documents/College Local/Current/CS 639/proj')\n",
    "    root_data_dir = os.path.join(os.getcwd(), 'data', 'leapGestRecog')\n",
    "    \n",
    "    y = []\n",
    "    X = []\n",
    "    \n",
    "    # get data\n",
    "    for subject_dir in os.listdir(root_data_dir):\n",
    "        if subject_dir == '.ipynb_checkpoints':\n",
    "            continue\n",
    "        \n",
    "        subject_path = os.path.join(root_data_dir, subject_dir)\n",
    "        \n",
    "        for class_dir in os.listdir(subject_path):\n",
    "            \n",
    "            class_path = os.path.join(subject_path, class_dir)\n",
    "            class_name = class_dir.split('_')[1]\n",
    "            \n",
    "            for filename in os.listdir(class_path):\n",
    "                \n",
    "                if filename.split('.')[1] != 'png':\n",
    "                    continue\n",
    "                \n",
    "                full_path = os.path.join(class_path, filename)\n",
    "                img = process_img(full_path, transformed_size[::-1])\n",
    "                \n",
    "                X.append(img)\n",
    "                y.append(class_name)\n",
    "    \n",
    "    # convert to numpy\n",
    "    X = np.array(X, dtype=\"uint8\")\n",
    "    X = X.reshape(len(X), transformed_size[0], transformed_size[1], 1)\n",
    "    y = [class_labels[itm] for itm in y]\n",
    "    y = np.array(y)\n",
    "    \n",
    "    return X, y"
   ]
  },
  {
   "cell_type": "code",
   "execution_count": 14,
   "metadata": {},
   "outputs": [],
   "source": [
    "# get dataset\n",
    "transformed_img_size = (100, 200)\n",
    "X, y = load_dataset(transformed_img_size)"
   ]
  },
  {
   "cell_type": "code",
   "execution_count": 15,
   "metadata": {},
   "outputs": [],
   "source": [
    "assert(len(y) == len(X))"
   ]
  },
  {
   "cell_type": "code",
   "execution_count": 16,
   "metadata": {},
   "outputs": [
    {
     "data": {
      "text/plain": [
       "(20000, 100, 200, 1)"
      ]
     },
     "execution_count": 16,
     "metadata": {},
     "output_type": "execute_result"
    }
   ],
   "source": [
    "X.shape"
   ]
  },
  {
   "cell_type": "code",
   "execution_count": 17,
   "metadata": {},
   "outputs": [
    {
     "data": {
      "text/plain": [
       "array([4, 4, 4, ..., 2, 2, 2])"
      ]
     },
     "execution_count": 17,
     "metadata": {},
     "output_type": "execute_result"
    }
   ],
   "source": [
    "y"
   ]
  },
  {
   "cell_type": "code",
   "execution_count": 28,
   "metadata": {},
   "outputs": [],
   "source": [
    "import torch\n",
    "import torch.nn as nn\n",
    "import torch.nn.functional as F\n",
    "import torch.optim as optim"
   ]
  },
  {
   "cell_type": "code",
   "execution_count": 147,
   "metadata": {},
   "outputs": [],
   "source": [
    "in_size = (100, 200)"
   ]
  },
  {
   "cell_type": "code",
   "execution_count": 192,
   "metadata": {},
   "outputs": [],
   "source": [
    "class Net(nn.Module):\n",
    "    def __init__(self):\n",
    "        super(Net, self).__init__()\n",
    "        # 1 in channel, 6 new feature detectors, 5 kernel size, 1 stride (meaning output channels are same size)\n",
    "        self.conv1 = nn.Conv2d(in_channels=1, out_channels=6, kernel_size=5, stride=1, padding=1)\n",
    "        self.pool = nn.MaxPool2d(kernel_size=2)\n",
    "        self.conv2 = nn.Conv2d(in_channels=6, out_channels=16, kernel_size=5)\n",
    "        self.fc1 = nn.Linear(in_features=16544, out_features=120)\n",
    "        self.fc2 = nn.Linear(in_features=120, out_features=84)\n",
    "        self.fc3 = nn.Linear(in_features=84, out_features=10)\n",
    "\n",
    "    def forward(self, x):\n",
    "        #print('in:', x.shape)\n",
    "        x = self.pool(F.relu(self.conv1(x)))\n",
    "        #print('pool1:', x.shape)\n",
    "        x = self.pool(F.relu(self.conv2(x)))\n",
    "        #print('pool2:', x.shape)\n",
    "        x = x.view(-1, 16 * 22 * 47)\n",
    "        #print('x view:', x.shape)\n",
    "        x = F.relu(self.fc1(x))\n",
    "        #print('x fc1:', x.shape)\n",
    "        x = F.relu(self.fc2(x))\n",
    "        #print('x fc2:', x.shape)\n",
    "        x = self.fc3(x)\n",
    "        #print('x fin:', x)\n",
    "        return x\n",
    "\n",
    "\n",
    "net = Net()"
   ]
  },
  {
   "cell_type": "code",
   "execution_count": 193,
   "metadata": {},
   "outputs": [],
   "source": [
    "# loss\n",
    "criterion = nn.CrossEntropyLoss()\n",
    "optimizer = optim.SGD(net.parameters(), lr=0.001, momentum=0.9)"
   ]
  },
  {
   "cell_type": "code",
   "execution_count": 195,
   "metadata": {},
   "outputs": [
    {
     "name": "stdout",
     "output_type": "stream",
     "text": [
      "[1,     1] loss: 0.001\n",
      "[1,  2001] loss: 0.045\n",
      "[1,  4001] loss: 0.045\n",
      "[1,  6001] loss: 0.045\n",
      "[1,  8001] loss: 0.044\n",
      "[1, 10001] loss: 0.045\n",
      "[1, 12001] loss: 0.042\n",
      "[1, 14001] loss: 0.043\n",
      "[1, 16001] loss: 0.044\n",
      "[1, 18001] loss: 0.041\n",
      "[2,     1] loss: 0.001\n",
      "[2,  2001] loss: 0.043\n",
      "[2,  4001] loss: 0.035\n",
      "[2,  6001] loss: 0.042\n",
      "[2,  8001] loss: 0.035\n",
      "[2, 10001] loss: 0.042\n",
      "[2, 12001] loss: 0.034\n",
      "[2, 14001] loss: 0.040\n",
      "[2, 16001] loss: 0.037\n",
      "[2, 18001] loss: 0.025\n",
      "Finished Training\n"
     ]
    }
   ],
   "source": [
    "# train\n",
    "for epoch in range(2):  # loop over the dataset multiple times\n",
    "\n",
    "    running_loss = 0.0\n",
    "    batch_size = 50\n",
    "    for idx in range(0, len(X) - batch_size, batch_size):\n",
    "        # get the inputs; data is a list of [inputs, labels]\n",
    "        inputs = torch.FloatTensor(X[idx: idx + batch_size]).permute(0, 3, 1, 2)\n",
    "        #print(inputs.shape)\n",
    "        labels = torch.LongTensor(y[idx: idx + batch_size])\n",
    "        #print(labels.shape)\n",
    "        \n",
    "        # zero the parameter gradients\n",
    "        optimizer.zero_grad()\n",
    "\n",
    "        # forward + backward + optimize\n",
    "        outputs = net(inputs)\n",
    "        #print(len(outputs))\n",
    "        \n",
    "        loss = criterion(outputs, labels)\n",
    "        loss.backward()\n",
    "        optimizer.step()\n",
    "\n",
    "        # print statistics\n",
    "        running_loss += loss.item()\n",
    "        if idx % 2000 == 0:    # print every 2000 mini-batches\n",
    "            print('[%d, %5d] loss: %.3f' %\n",
    "                  (epoch + 1, idx + 1, running_loss / 2000))\n",
    "            running_loss = 0.0\n",
    "\n",
    "print('Finished Training')"
   ]
  },
  {
   "cell_type": "code",
   "execution_count": null,
   "metadata": {},
   "outputs": [],
   "source": [
    "class_labels = {\n",
    "    'palm': 0,\n",
    "    'l': 1,\n",
    "    'fist': 2,\n",
    "    'fist_moved': 3,\n",
    "    'thumb': 4,\n",
    "    'index': 5,\n",
    "    'ok': 6,\n",
    "    'palm_moved': 7,\n",
    "    'c': 8,\n",
    "    'down': 9\n",
    "}"
   ]
  },
  {
   "cell_type": "code",
   "execution_count": 258,
   "metadata": {},
   "outputs": [],
   "source": [
    "# see how it worked\n",
    "classes = list(class_labels.keys())\n",
    "class_correct = list(0. for i in range(len(classes)))\n",
    "class_total = list(0. for i in range(len(classes)))\n",
    "\n",
    "with torch.no_grad():\n",
    "    \n",
    "    batch_size = 50\n",
    "    for idx in range(0, len(X) - batch_size, batch_size):\n",
    "        # get data\n",
    "        inputs = torch.FloatTensor(X[idx: idx + batch_size]).permute(0, 3, 1, 2)\n",
    "        labels = torch.LongTensor(y[idx: idx + batch_size])\n",
    "        # run through model\n",
    "        outputs = net(inputs)\n",
    "        _, predicted = torch.max(outputs, 1)\n",
    "        # predict\n",
    "        for idx in range(outputs.shape[0]):\n",
    "            label = predicted[idx]\n",
    "            actual = labels[idx]\n",
    "            if actual == label:\n",
    "                class_correct[label] += 1\n",
    "            class_total[label] += 1"
   ]
  },
  {
   "cell_type": "code",
   "execution_count": 261,
   "metadata": {},
   "outputs": [
    {
     "data": {
      "text/plain": [
       "[3345.0, 202.0, 9508.0, 0.0, 517.0, 271.0, 1449.0, 0.0, 1838.0, 2820.0]"
      ]
     },
     "execution_count": 261,
     "metadata": {},
     "output_type": "execute_result"
    }
   ],
   "source": [
    "class_total"
   ]
  },
  {
   "cell_type": "code",
   "execution_count": 361,
   "metadata": {},
   "outputs": [
    {
     "name": "stdout",
     "output_type": "stream",
     "text": [
      "Accuracy by class:\n",
      "\tpalm           acc = 0.457100\n",
      "\tl              acc = 0.896040\n",
      "\tfist           acc = 0.350126\n",
      "\tfist_moved     acc = 0.000000\n",
      "\tthumb          acc = 0.829787\n",
      "\tindex          acc = 0.118081\n",
      "\tok             acc = 0.628019\n",
      "\tpalm_moved     acc = 0.000000\n",
      "\tc              acc = 0.459195\n",
      "\tdown           acc = 0.471277\n"
     ]
    }
   ],
   "source": [
    "print(\"Accuracy by class:\")\n",
    "for idx, c in enumerate(classes):\n",
    "    if class_total[idx] != 0:\n",
    "        print(\"\\t{:<12s}   acc = {:04f}\".format(c, class_correct[idx]/class_total[idx]))\n",
    "    else:\n",
    "        print(\"\\t{:<12s}   acc = {:04f}\".format(c, 0.0))"
   ]
  },
  {
   "cell_type": "code",
   "execution_count": 290,
   "metadata": {},
   "outputs": [
    {
     "data": {
      "text/plain": [
       "'ok'"
      ]
     },
     "execution_count": 290,
     "metadata": {},
     "output_type": "execute_result"
    }
   ],
   "source": [
    "def predict(img):\n",
    "    in_to_model = torch.FloatTensor(img).permute(2, 0, 1).unsqueeze(0)\n",
    "    out = net(in_to_model)\n",
    "    _, predicted = torch.max(out, 1)\n",
    "    return labels[predicted]\n",
    "predict(X[0])"
   ]
  },
  {
   "cell_type": "code",
   "execution_count": 343,
   "metadata": {},
   "outputs": [
    {
     "name": "stdout",
     "output_type": "stream",
     "text": [
      "down predicted to be down\n"
     ]
    },
    {
     "data": {
      "image/png": "[encoded data removed]",
      "text/plain": [
       "<Figure size 432x288 with 1 Axes>"
      ]
     },
     "metadata": {},
     "output_type": "display_data"
    }
   ],
   "source": [
    "idx = 15000\n",
    "test = torch.FloatTensor(X[idx]).squeeze()\n",
    "imshow(test)\n",
    "print(\"{} predicted to be {}\".format(labels[y[idx]], predict(test.unsqueeze(2))))"
   ]
  }
 ],
 "metadata": {
  "kernelspec": {
   "display_name": "Python 3",
   "language": "python",
   "name": "python3"
  },
  "language_info": {
   "codemirror_mode": {
    "name": "ipython",
    "version": 3
   },
   "file_extension": ".py",
   "mimetype": "text/x-python",
   "name": "python",
   "nbconvert_exporter": "python",
   "pygments_lexer": "ipython3",
   "version": "3.6.8"
  }
 },
 "nbformat": 4,
 "nbformat_minor": 4
}
